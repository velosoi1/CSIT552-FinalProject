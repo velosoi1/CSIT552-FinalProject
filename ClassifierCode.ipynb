{
  "nbformat": 4,
  "nbformat_minor": 0,
  "metadata": {
    "colab": {
      "provenance": []
    },
    "kernelspec": {
      "name": "python3",
      "display_name": "Python 3"
    },
    "language_info": {
      "name": "python"
    }
  },
  "cells": [
    {
      "cell_type": "markdown",
      "source": [
        "**Academic Paper Classifier** ---\n",
        "Ingrid Veloso ---\n",
        "Special Topics in NLP --- Spring 2023\n",
        "Final Project"
      ],
      "metadata": {
        "id": "LKT0vze0QGU4"
      }
    },
    {
      "cell_type": "code",
      "source": [
        "import pandas as pd\n",
        "\n",
        "# load the CSV file\n",
        "data = pd.read_csv('engpsy_papers.csv')\n",
        "\n",
        "# print the column names\n",
        "print(data.columns)"
      ],
      "metadata": {
        "colab": {
          "base_uri": "https://localhost:8080/"
        },
        "id": "sKQ27A6sCTKZ",
        "outputId": "b8fb73ae-57df-4787-a2f5-580925c7cc3e"
      },
      "execution_count": null,
      "outputs": [
        {
          "output_type": "stream",
          "name": "stdout",
          "text": [
            "Index(['Text', 'Label'], dtype='object')\n"
          ]
        }
      ]
    },
    {
      "cell_type": "code",
      "source": [
        "from sklearn.feature_extraction.text import CountVectorizer\n",
        "from sklearn.naive_bayes import MultinomialNB\n",
        "from sklearn.metrics import accuracy_score\n",
        "\n",
        "# load the CSV file\n",
        "data = pd.read_csv('engpsy_papers.csv', encoding= 'latin1', on_bad_lines='skip', lineterminator='\\n')\n",
        "\n",
        "# preprocess the text data\n",
        "data['Text'] = data['Text'].str.lower().str.replace('[^\\w\\s]','').str.replace('\\d+', '').str.strip()"
      ],
      "metadata": {
        "colab": {
          "base_uri": "https://localhost:8080/"
        },
        "id": "yZKxIKRy44oL",
        "outputId": "30287aac-e3d0-4133-b00d-97108e8415aa"
      },
      "execution_count": null,
      "outputs": [
        {
          "output_type": "stream",
          "name": "stderr",
          "text": [
            "<ipython-input-4-6507098e53fd>:10: FutureWarning: The default value of regex will change from True to False in a future version.\n",
            "  data['Text'] = data['Text'].str.lower().str.replace('[^\\w\\s]','').str.replace('\\d+', '').str.strip()\n"
          ]
        }
      ]
    },
    {
      "cell_type": "code",
      "source": [
        "# extract features using bag-of-words\n",
        "vectorizer = CountVectorizer(stop_words='english')\n",
        "X = vectorizer.fit_transform(data['Text'])\n",
        "\n",
        "# split the data into training and testing sets\n",
        "train_X = X[:150]\n",
        "test_X = X[150:]\n",
        "train_y = data['Label'][:150]\n",
        "test_y = data['Label'][150:]\n",
        "\n",
        "# train the model using Naive Bayes\n",
        "model = MultinomialNB()\n",
        "model.fit(train_X, train_y)\n",
        "\n",
        "# evaluate the model\n",
        "pred_y = model.predict(test_X)\n",
        "accuracy = accuracy_score(test_y, pred_y)\n",
        "print(\"Accuracy:\", accuracy)\n",
        "\n",
        "# use the trained model to predict new papers (testing with Psychology paper [PSY.G1.04.1])\n",
        "new_paper = \"If I were to describe myself I would say that I am energetic, friendly, and organized. To determine the accuracy of my description, I took a version of the Big Five personality model factors test that I found online. I was also curious if I had acquired my personality through the environment I was brought up in, or if it was genetic. In order to attempt to answer this question, I had both of my parents take the test as well as a stranger. The results of the tests allude to the facts that my personality is not my fault, just bad genes as well as I am just a product of my environment.My results of the Big Five personality model factors test made me realize two things about my personality. The first was my score in the neuroticism category. This trait reflects the tendency to experience negative thoughts and feelings. High scorers are prone to insecurity and emotional distress and low scorers tend to be more relaxed and less emotional. As can be seen in Table 1, I received a low score. This was surprising to me as I expected to be in the average point range due to my tendency to become high strung in stressful situations along with doubting many decisions that I make daily. The second category that surprised me was my average rating in openness. This trait reflects open-mindedness and interest in culture. High scorers tend to be imaginative, creative, and to seek out cultural and educational experiences. Low scorers are more down-to-earth, less interested in art and more practical in nature. I would have thought of myself receiving a low score because I am in the engineering school which does not challenge the creative and art side of me as much as the down-to-earth, logical side. On the whole however, I believe that the Big Five personality model factors test was fairy accurate in how I would describe myself.In order to find out how my personality was shaped, I asked my parents as well as a stranger to take the same Big Five personality test and send me their results which can also be found in Table 1. I found these results interesting for a couple reasons. To begin with, I have more personality traits in common with both parents than with the stranger. This can either be due to genetics or the environment in which I was raised. It does rule out the fact that all human beings are the same in their personalities. The more intriguing observation is the opposite nature of the personalities of my parents. This could stem from the fact that they were divorced some time ago and therefore have been able to form their own personalities unaltered by the constant presence of the other spouse. Table 1 shows all my personality traits match with either one parent or the other demonstrating a genetic correlation. Finally, I match more personality traits with my mother than with my father. This could be due to the fact that for the last four years I have been living mostly with my mother. This correlation provides support that personality is also a product of one's environment.\"\n",
        "new_X = vectorizer.transform([new_paper])\n",
        "pred_label = model.predict(new_X)\n",
        "print(\"Predicted label:\", pred_label)"
      ],
      "metadata": {
        "colab": {
          "base_uri": "https://localhost:8080/"
        },
        "id": "eag4L_Rm8jAq",
        "outputId": "06d703c7-e221-4f84-e961-bbd9a3669e7e"
      },
      "execution_count": null,
      "outputs": [
        {
          "output_type": "stream",
          "name": "stdout",
          "text": [
            "Accuracy: 0.9459459459459459\n",
            "Predicted label: ['Psychology']\n"
          ]
        }
      ]
    }
  ]
}
